{
  "nbformat": 4,
  "nbformat_minor": 0,
  "metadata": {
    "colab": {
      "provenance": [],
      "authorship_tag": "ABX9TyPL/ppYPzr2AKblzgjJ3QLR"
    },
    "kernelspec": {
      "name": "python3",
      "display_name": "Python 3"
    },
    "language_info": {
      "name": "python"
    }
  },
  "cells": [
    {
      "cell_type": "code",
      "source": [
        "!pip install re"
      ],
      "metadata": {
        "colab": {
          "base_uri": "https://localhost:8080/"
        },
        "id": "vtqmo_7WOChp",
        "outputId": "0ae94596-e3f1-4a81-9904-3af3c37be489"
      },
      "execution_count": null,
      "outputs": [
        {
          "output_type": "stream",
          "name": "stdout",
          "text": [
            "\u001b[31mERROR: Could not find a version that satisfies the requirement re (from versions: none)\u001b[0m\u001b[31m\n",
            "\u001b[0m\u001b[31mERROR: No matching distribution found for re\u001b[0m\u001b[31m\n",
            "\u001b[0m"
          ]
        }
      ]
    },
    {
      "cell_type": "code",
      "source": [
        "from google.colab import drive\n",
        "drive.mount('/content/drive')\n",
        "file_path = '/content/drive/MyDrive/Colab Notebooks/BigData/htmlfile1.html'"
      ],
      "metadata": {
        "colab": {
          "base_uri": "https://localhost:8080/"
        },
        "id": "9c7mZotDOF0S",
        "outputId": "f3ffcd9f-760e-43f4-a2f2-6ca2b3c2977a"
      },
      "execution_count": null,
      "outputs": [
        {
          "output_type": "stream",
          "name": "stdout",
          "text": [
            "Drive already mounted at /content/drive; to attempt to forcibly remount, call drive.mount(\"/content/drive\", force_remount=True).\n"
          ]
        }
      ]
    },
    {
      "cell_type": "code",
      "execution_count": null,
      "metadata": {
        "colab": {
          "base_uri": "https://localhost:8080/"
        },
        "id": "ueILDUa-OAtR",
        "outputId": "f9a1547d-1bf4-4e8e-9a95-6139ee475eaf"
      },
      "outputs": [
        {
          "output_type": "stream",
          "name": "stdout",
          "text": [
            "Extracted Prices: ['21.73 $', '30.73 $', '14.49 $', '26.90 $', '14.49 $', '18.09 $', '27.95 $', '21.03 $', '68.35 $', '23.47 $']\n"
          ]
        }
      ],
      "source": [
        "import re\n",
        "\n",
        "with open(file_path, 'r') as file:\n",
        "    html_data = file.read()\n",
        "\n",
        "price_pattern = r'Price : (.{1,30} \\$)'\n",
        "\n",
        "prices = re.findall(price_pattern, html_data)\n",
        "\n",
        "print(\"Extracted Prices:\", prices)\n"
      ]
    },
    {
      "cell_type": "code",
      "source": [
        "import pandas as pd\n",
        "\n",
        "\n",
        "extracted_prices = [price for price in prices]\n",
        "\n",
        "data = {'Prices': extracted_prices}\n",
        "df = pd.DataFrame(data)\n",
        "\n",
        "print(df)\n"
      ],
      "metadata": {
        "colab": {
          "base_uri": "https://localhost:8080/"
        },
        "id": "sZrm6dtoPdfT",
        "outputId": "3a7183cc-7008-4fd5-edf4-e4dfa7a361c3"
      },
      "execution_count": null,
      "outputs": [
        {
          "output_type": "stream",
          "name": "stdout",
          "text": [
            "    Prices\n",
            "0  21.73 $\n",
            "1  30.73 $\n",
            "2  14.49 $\n",
            "3  26.90 $\n",
            "4  14.49 $\n",
            "5  18.09 $\n",
            "6  27.95 $\n",
            "7  21.03 $\n",
            "8  68.35 $\n",
            "9  23.47 $\n"
          ]
        }
      ]
    },
    {
      "cell_type": "code",
      "source": [
        "film_pattern = r'<h2 style=\"font-size:30px;color:black\">(.*?)</h2>'\n",
        "\n",
        "film_names = re.findall(film_pattern, html_data)\n",
        "\n",
        "film_df = pd.DataFrame({'Film_Name': film_names})\n",
        "\n",
        "print(film_df)\n"
      ],
      "metadata": {
        "colab": {
          "base_uri": "https://localhost:8080/"
        },
        "id": "yFshzpN3RtBc",
        "outputId": "9dd44716-9983-4aa6-9823-f62ac92befec"
      },
      "execution_count": null,
      "outputs": [
        {
          "output_type": "stream",
          "name": "stdout",
          "text": [
            "                                           Film_Name\n",
            "0  The Great Reset: Joe Biden and the Rise of Twe...\n",
            "1           The Complete Maus: A Survivor&#39;s Tale\n",
            "2  Maus I: A Survivor&#39;s Tale: My Father Bleed...\n",
            "3                  Maus I &amp; II Paperback Box Set\n",
            "4  Maus II: A Survivor&#39;s Tale: And Here My Tr...\n",
            "5                   This Woven Kingdom (Signed Book)\n",
            "6  Black Faces, White Spaces: Reimagining the Rel...\n",
            "7  House of Sky and Breath (Crescent City Series #2)\n",
            "8                               Our Journey Together\n",
            "9  Red-Handed: How American Elites Get Rich Helpi...\n"
          ]
        }
      ]
    },
    {
      "cell_type": "code",
      "source": [
        "df['Film_Name'] = film_df\n",
        "print(df)"
      ],
      "metadata": {
        "colab": {
          "base_uri": "https://localhost:8080/"
        },
        "id": "dpjX3ZXXSIpq",
        "outputId": "38c33681-2b69-4a3e-8e35-6391b03c5f75"
      },
      "execution_count": null,
      "outputs": [
        {
          "output_type": "stream",
          "name": "stdout",
          "text": [
            "    Prices                                          Film_Name\n",
            "0  21.73 $  The Great Reset: Joe Biden and the Rise of Twe...\n",
            "1  30.73 $           The Complete Maus: A Survivor&#39;s Tale\n",
            "2  14.49 $  Maus I: A Survivor&#39;s Tale: My Father Bleed...\n",
            "3  26.90 $                  Maus I &amp; II Paperback Box Set\n",
            "4  14.49 $  Maus II: A Survivor&#39;s Tale: And Here My Tr...\n",
            "5  18.09 $                   This Woven Kingdom (Signed Book)\n",
            "6  27.95 $  Black Faces, White Spaces: Reimagining the Rel...\n",
            "7  21.03 $  House of Sky and Breath (Crescent City Series #2)\n",
            "8  68.35 $                               Our Journey Together\n",
            "9  23.47 $  Red-Handed: How American Elites Get Rich Helpi...\n"
          ]
        }
      ]
    }
  ]
}