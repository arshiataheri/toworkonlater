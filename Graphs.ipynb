{
  "nbformat": 4,
  "nbformat_minor": 0,
  "metadata": {
    "colab": {
      "provenance": [],
      "authorship_tag": "ABX9TyMqqzO0wLn5MWVBUa6rrnlg"
    },
    "kernelspec": {
      "name": "python3",
      "display_name": "Python 3"
    },
    "language_info": {
      "name": "python"
    }
  },
  "cells": [
    {
      "cell_type": "code",
      "execution_count": null,
      "metadata": {
        "id": "aVE1vNkUgoZF"
      },
      "outputs": [],
      "source": [
        "import networkx as nx"
      ]
    },
    {
      "cell_type": "code",
      "source": [
        "import matplotlib.pyplot as plt\n",
        "\n",
        "# Create an empty graph\n",
        "G = nx.Graph()\n",
        "\n",
        "# Add nodes with positions\n",
        "G.add_node(1, pos=(0, 0))\n",
        "G.add_node(2, pos=(1, 1))\n",
        "G.add_node(3, pos=(2, 0))\n",
        "\n",
        "# Get node positions\n",
        "pos = nx.get_node_attributes(G, 'pos')\n",
        "\n",
        "# Draw the graph\n",
        "nx.draw(G, pos, with_labels=True)\n",
        "\n",
        "# Show the plot\n",
        "plt.show()\n"
      ],
      "metadata": {
        "colab": {
          "base_uri": "https://localhost:8080/",
          "height": 516
        },
        "id": "k1PySQ2oi7Qj",
        "outputId": "63a130ee-7a97-4481-e3ca-40edfee5331e"
      },
      "execution_count": null,
      "outputs": [
        {
          "output_type": "display_data",
          "data": {
            "text/plain": [
              "<Figure size 640x480 with 1 Axes>"
            ],
            "image/png": "[encoded data removed]"
          },
          "metadata": {}
        }
      ]
    },
    {
      "cell_type": "code",
      "source": [
        "G = nx.Graph()\n",
        "G.add_nodes_from([0,9])\n",
        "G.add_edge(1,2,weight=3)\n",
        "G.add_edge(2,3,weight=1)\n",
        "G.add_edge(2,4,weight=2)\n",
        "G.add_edge(4,5,weight=4)\n",
        "G.add_edge(1,2,weight=3)\n",
        "G.add_edge(5,6,weight=1)\n",
        "G.add_edge(5,7,weight=3)\n",
        "G.add_edge(6,8,weight=6)\n",
        "G.add_edge(7,8,weight=1)\n",
        "G.add_edge(8,9,weight=4)\n",
        "\n",
        "\n",
        "print(nx.dijkstra_path(G, 1, 9))\n"
      ],
      "metadata": {
        "colab": {
          "base_uri": "https://localhost:8080/"
        },
        "id": "RZekfSmXgxLt",
        "outputId": "12c2c9f6-6a52-4091-c23a-d92132019e3a"
      },
      "execution_count": null,
      "outputs": [
        {
          "output_type": "stream",
          "name": "stdout",
          "text": [
            "[1, 2, 4, 5, 7, 8, 9]\n"
          ]
        }
      ]
    },
    {
      "cell_type": "code",
      "source": [
        "G = nx.Graph()\n",
        "\n",
        "G.add_node(1, pos=(1,1))\n",
        "G.add_node(2, pos=(2,2))\n",
        "G.add_node(3, pos=(3,-1))\n",
        "G.add_node(4, pos=(3,1))\n",
        "G.add_node(5, pos=(4,1))\n",
        "G.add_node(6, pos=(5,4))\n",
        "G.add_node(7, pos=(5,2))\n",
        "G.add_node(8, pos=(6,1))\n",
        "G.add_node(9, pos=(6,4))\n",
        "\n",
        "G.add_edge(1,2,weight=3)\n",
        "G.add_edge(2,3,weight=1)\n",
        "G.add_edge(2,4,weight=2)\n",
        "G.add_edge(3,4,weight=2)\n",
        "G.add_edge(4,5,weight=4)\n",
        "G.add_edge(5,6,weight=1)\n",
        "G.add_edge(5,7,weight=3)\n",
        "G.add_edge(6,8,weight=6)\n",
        "G.add_edge(7,8,weight=1)\n",
        "G.add_edge(8,9,weight=4)\n",
        "\n",
        "\n",
        "pos = nx.get_node_attributes(G, 'pos')\n",
        "labels = nx.get_edge_attributes(G, 'weight')\n",
        "nx.draw(G, pos, with_labels=True)\n",
        "nx.draw_networkx_edge_labels(G, pos,edge_labels=labels)"
      ],
      "metadata": {
        "colab": {
          "base_uri": "https://localhost:8080/",
          "height": 690
        },
        "id": "ahnTiu8Tk7Ao",
        "outputId": "904bdea0-7ebc-46e9-9afc-e5884013eee0"
      },
      "execution_count": null,
      "outputs": [
        {
          "output_type": "execute_result",
          "data": {
            "text/plain": [
              "{(1, 2): Text(1.5, 1.5, '3'),\n",
              " (2, 3): Text(2.5, 0.5, '1'),\n",
              " (2, 4): Text(2.5, 1.5, '2'),\n",
              " (3, 4): Text(3.0, 0.0, '2'),\n",
              " (4, 5): Text(3.5, 1.0, '4'),\n",
              " (5, 6): Text(4.5, 2.5, '1'),\n",
              " (5, 7): Text(4.5, 1.5, '3'),\n",
              " (6, 8): Text(5.5, 2.5, '6'),\n",
              " (7, 8): Text(5.5, 1.5, '1'),\n",
              " (8, 9): Text(6.0, 2.5, '4')}"
            ]
          },
          "metadata": {},
          "execution_count": 6
        },
        {
          "output_type": "display_data",
          "data": {
            "text/plain": [
              "<Figure size 640x480 with 1 Axes>"
            ],
            "image/png": "[encoded data removed]"
          },
          "metadata": {}
        }
      ]
    },
    {
      "cell_type": "code",
      "source": [
        "import heapq\n",
        "\n",
        "def dijkstra(graph, start, end):\n",
        "    # Create a dictionary to store the distance to each node\n",
        "    # Initialize all distances as infinite except for the starting node\n",
        "    distance = {node: float('inf') for node in graph}\n",
        "    distance[start] = 0\n",
        "\n",
        "    # Create a dictionary to store the previous node in the optimal path\n",
        "    previous_node = {node: None for node in graph}\n",
        "\n",
        "    # Create a set to keep track of visited nodes\n",
        "    visited = set()\n",
        "\n",
        "    # Create a priority queue to store nodes to visit\n",
        "    queue = [(0, start)]\n",
        "    heapq.heapify(queue)\n",
        "\n",
        "    # Loop until the queue is empty\n",
        "    while queue:\n",
        "        # Get the node with the smallest distance from the start node\n",
        "        current_distance, current_node = heapq.heappop(queue)\n",
        "\n",
        "        # If we have already visited this node, skip it\n",
        "        if current_node in visited:\n",
        "            continue\n",
        "\n",
        "        # Add the node to the visited set\n",
        "        visited.add(current_node)\n",
        "\n",
        "        # If we have reached the end node, return the shortest path\n",
        "        if current_node == end:\n",
        "            path = []\n",
        "            while previous_node[current_node] is not None:\n",
        "                path.append(current_node)\n",
        "                current_node = previous_node[current_node]\n",
        "            path.append(start)\n",
        "            return path[::-1], distance[end]\n",
        "\n",
        "        # Check the distances to the neighbors of the current node\n",
        "        for neighbor, weight in graph[current_node].items():\n",
        "            new_distance = distance[current_node] + weight\n",
        "\n",
        "            # If we have found a new shortest path to the neighbor node, update the distance and previous node\n",
        "            if new_distance < distance[neighbor]:\n",
        "                distance[neighbor] = new_distance\n",
        "                previous_node[neighbor] = current_node\n",
        "\n",
        "                # Add the neighbor node to the queue to be visited\n",
        "                heapq.heappush(queue, (new_distance, neighbor))\n",
        "\n",
        "    # If we have visited all nodes and haven't found a path to the end node, return None\n",
        "    return None, None\n"
      ],
      "metadata": {
        "id": "Mz0mXnaxpUVq"
      },
      "execution_count": null,
      "outputs": []
    },
    {
      "cell_type": "code",
      "source": [
        "graph = {\n",
        "    'A': {'B': 2, 'C': 3},\n",
        "    'B': {'A': 2, 'C': 1, 'D': 1},\n",
        "    'C': {'A': 3, 'B': 1, 'D': 1},\n",
        "    'D': {'B': 1, 'C': 2, 'E': 4},\n",
        "    'E': {'D': 4}\n",
        "}\n",
        "\n",
        "start = 'A'\n",
        "end = 'E'\n",
        "\n",
        "shortest_path, shortest_distance = dijkstra(graph, start, end)\n",
        "\n",
        "print(\"Shortest Path:\", shortest_path)\n",
        "print(\"Shortest Distance:\", shortest_distance)\n"
      ],
      "metadata": {
        "colab": {
          "base_uri": "https://localhost:8080/"
        },
        "id": "GrFqoRp_pZOX",
        "outputId": "91ab942e-bd88-4a8f-8566-3e7c438eac08"
      },
      "execution_count": null,
      "outputs": [
        {
          "output_type": "stream",
          "name": "stdout",
          "text": [
            "Shortest Path: ['A', 'B', 'D', 'E']\n",
            "Shortest Distance: 7\n"
          ]
        }
      ]
    },
    {
      "cell_type": "code",
      "source": [
        "graph = {\n",
        "    'a': {'b': 5, 'c': 2},\n",
        "    'b': {'a': 5, 'c': 7, 'd': 8},\n",
        "    'c': {\n",
        "        'a': 2,\n",
        "        'b': 7,\n",
        "        'd': 4,\n",
        "        'e': 8,\n",
        "        },\n",
        "    'd': {\n",
        "        'b': 8,\n",
        "        'c': 4,\n",
        "        'e': 6,\n",
        "        'f': 4,\n",
        "        },\n",
        "    'e': {'c': 8, 'd': 6, 'f': 3},\n",
        "    'f': {'e': 3, 'd': 4},\n",
        "    }\n",
        "\n",
        "start = 'a'\n",
        "end = 'f'\n",
        "\n",
        "shortest_path, shortest_distance = dijkstra(graph, start, end)\n",
        "\n",
        "print(\"Shortest Path:\", shortest_path)\n",
        "print(\"Shortest Distance:\", shortest_distance)\n"
      ],
      "metadata": {
        "colab": {
          "base_uri": "https://localhost:8080/"
        },
        "id": "7tj3D32stgnG",
        "outputId": "9f99adeb-919b-4f26-dca8-22130bc1472d"
      },
      "execution_count": null,
      "outputs": [
        {
          "output_type": "stream",
          "name": "stdout",
          "text": [
            "Shortest Path: ['a', 'c', 'd', 'f']\n",
            "Shortest Distance: 10\n"
          ]
        }
      ]
    },
    {
      "cell_type": "code",
      "source": [
        "import math\n",
        "\n",
        "graph = {\n",
        "    'a': {'b': 5, 'c': 2},\n",
        "    'b': {'a': 5, 'c': 7, 'd': 8},\n",
        "    'c': {\n",
        "        'a': 2,\n",
        "        'b': 7,\n",
        "        'd': 4,\n",
        "        'e': 8,\n",
        "        },\n",
        "    'd': {\n",
        "        'b': 8,\n",
        "        'c': 4,\n",
        "        'e': 6,\n",
        "        'f': 4,\n",
        "        },\n",
        "    'e': {'c': 8, 'd': 6, 'f': 3},\n",
        "    'f': {'e': 3, 'd': 4},\n",
        "    }\n",
        "\n",
        "source = 'a'\n",
        "destination = 'f'\n",
        "\n",
        "unvisited = graph\n",
        "shortest_distances = {}\n",
        "route = []\n",
        "path_nodes = {}\n",
        "\n",
        "for nodes in unvisited:\n",
        "    shortest_distances[nodes] = math.inf\n",
        "shortest_distances[source] = 0\n",
        "\n",
        "while unvisited:\n",
        "    min_node = None\n",
        "    for current_node in unvisited:\n",
        "        if min_node is None:\n",
        "            min_node = current_node\n",
        "        elif shortest_distances[min_node] \\\n",
        "            > shortest_distances[current_node]:\n",
        "            min_node = current_node\n",
        "    for (node, value) in unvisited[min_node].items():\n",
        "        if value + shortest_distances[min_node] \\\n",
        "            < shortest_distances[node]:\n",
        "            shortest_distances[node] = value \\\n",
        "                + shortest_distances[min_node]\n",
        "            path_nodes[node] = min_node\n",
        "    unvisited.pop(min_node)\n",
        "node = destination\n",
        "\n",
        "while node != source:\n",
        "    try:\n",
        "        route.insert(0, node)\n",
        "        node = path_nodes[node]\n",
        "    except Exception:\n",
        "        print('Path not reachable')\n",
        "        break\n",
        "route.insert(0, source)\n",
        "\n",
        "if shortest_distances[destination] != math.inf:\n",
        "    print('Shortest distance is ' + str(shortest_distances[destination]))\n",
        "    print('And the path is ' + str(route))"
      ],
      "metadata": {
        "colab": {
          "base_uri": "https://localhost:8080/"
        },
        "id": "bvcx-9sStQO1",
        "outputId": "9904c93a-1643-4062-e692-4ba6ee4b46bc"
      },
      "execution_count": null,
      "outputs": [
        {
          "output_type": "stream",
          "name": "stdout",
          "text": [
            "Shortest distance is 10\n",
            "And the path is ['a', 'c', 'd', 'f']\n"
          ]
        }
      ]
    },
    {
      "cell_type": "code",
      "source": [
        "import geopy\n",
        "#install geopython libraries\n",
        "!apt install gdal-bin python-gdal python3-gdal\n",
        "#install python3-rtree - Geopandas requirement\n",
        "!apt install python3-rtree\n",
        "#install geopandas\n",
        "!pip install git+git://github.com/geopandas/geopandas.git\n",
        "#install descartes - Geopandas requirement\n",
        "!pip install descartes\n",
        "import geopandas\n",
        "\n",
        "locator = Nominatim(user_agent=\"myGeocoder\")\n",
        "location = locator.geocode(\"Champ de Mars, Paris, France\")"
      ],
      "metadata": {
        "id": "IibLem2Z3Jio"
      },
      "execution_count": null,
      "outputs": []
    },
    {
      "cell_type": "code",
      "source": [
        "!pip install geopandas"
      ],
      "metadata": {
        "colab": {
          "base_uri": "https://localhost:8080/"
        },
        "id": "9PIA2pWp6WSM",
        "outputId": "2a5a17fa-0427-4ce4-ed43-6ebbf8424c0e"
      },
      "execution_count": null,
      "outputs": [
        {
          "output_type": "stream",
          "name": "stdout",
          "text": [
            "Looking in indexes: https://pypi.org/simple, https://us-python.pkg.dev/colab-wheels/public/simple/\n",
            "Collecting geopandas\n",
            "  Downloading geopandas-0.12.2-py3-none-any.whl (1.1 MB)\n",
            "\u001b[2K     \u001b[90m━━━━━━━━━━━━━━━━━━━━━━━━━━━━━━━━━━━━━━━━\u001b[0m \u001b[32m1.1/1.1 MB\u001b[0m \u001b[31m16.2 MB/s\u001b[0m eta \u001b[36m0:00:00\u001b[0m\n",
            "\u001b[?25hRequirement already satisfied: shapely>=1.7 in /usr/local/lib/python3.9/dist-packages (from geopandas) (2.0.1)\n",
            "Collecting fiona>=1.8\n",
            "  Downloading Fiona-1.9.3-cp39-cp39-manylinux_2_17_x86_64.manylinux2014_x86_64.whl (16.1 MB)\n",
            "\u001b[2K     \u001b[90m━━━━━━━━━━━━━━━━━━━━━━━━━━━━━━━━━━━━━━━━\u001b[0m \u001b[32m16.1/16.1 MB\u001b[0m \u001b[31m95.0 MB/s\u001b[0m eta \u001b[36m0:00:00\u001b[0m\n",
            "\u001b[?25hCollecting pyproj>=2.6.1.post1\n",
            "  Downloading pyproj-3.5.0-cp39-cp39-manylinux_2_17_x86_64.manylinux2014_x86_64.whl (7.8 MB)\n",
            "\u001b[2K     \u001b[90m━━━━━━━━━━━━━━━━━━━━━━━━━━━━━━━━━━━━━━━━\u001b[0m \u001b[32m7.8/7.8 MB\u001b[0m \u001b[31m116.3 MB/s\u001b[0m eta \u001b[36m0:00:00\u001b[0m\n",
            "\u001b[?25hRequirement already satisfied: packaging in /usr/local/lib/python3.9/dist-packages (from geopandas) (23.0)\n",
            "Requirement already satisfied: pandas>=1.0.0 in /usr/local/lib/python3.9/dist-packages (from geopandas) (1.5.3)\n",
            "Requirement already satisfied: certifi in /usr/local/lib/python3.9/dist-packages (from fiona>=1.8->geopandas) (2022.12.7)\n",
            "Requirement already satisfied: attrs>=19.2.0 in /usr/local/lib/python3.9/dist-packages (from fiona>=1.8->geopandas) (22.2.0)\n",
            "Requirement already satisfied: click~=8.0 in /usr/local/lib/python3.9/dist-packages (from fiona>=1.8->geopandas) (8.1.3)\n",
            "Requirement already satisfied: importlib-metadata in /usr/local/lib/python3.9/dist-packages (from fiona>=1.8->geopandas) (6.2.0)\n",
            "Collecting cligj>=0.5\n",
            "  Downloading cligj-0.7.2-py3-none-any.whl (7.1 kB)\n",
            "Collecting munch>=2.3.2\n",
            "  Downloading munch-2.5.0-py2.py3-none-any.whl (10 kB)\n",
            "Collecting click-plugins>=1.0\n",
            "  Downloading click_plugins-1.1.1-py2.py3-none-any.whl (7.5 kB)\n",
            "Requirement already satisfied: python-dateutil>=2.8.1 in /usr/local/lib/python3.9/dist-packages (from pandas>=1.0.0->geopandas) (2.8.2)\n",
            "Requirement already satisfied: numpy>=1.20.3 in /usr/local/lib/python3.9/dist-packages (from pandas>=1.0.0->geopandas) (1.22.4)\n",
            "Requirement already satisfied: pytz>=2020.1 in /usr/local/lib/python3.9/dist-packages (from pandas>=1.0.0->geopandas) (2022.7.1)\n",
            "Requirement already satisfied: six in /usr/local/lib/python3.9/dist-packages (from munch>=2.3.2->fiona>=1.8->geopandas) (1.16.0)\n",
            "Requirement already satisfied: zipp>=0.5 in /usr/local/lib/python3.9/dist-packages (from importlib-metadata->fiona>=1.8->geopandas) (3.15.0)\n",
            "Installing collected packages: pyproj, munch, cligj, click-plugins, fiona, geopandas\n",
            "Successfully installed click-plugins-1.1.1 cligj-0.7.2 fiona-1.9.3 geopandas-0.12.2 munch-2.5.0 pyproj-3.5.0\n"
          ]
        }
      ]
    },
    {
      "cell_type": "code",
      "source": [
        "import geopandas\n",
        "from geopy.geocoders import Nominatim\n",
        "\n",
        "locator = Nominatim(user_agent=\"myGeocoder\")\n",
        "location = locator.geocode(\"2 rue d'Alsace, Rennes, France\")"
      ],
      "metadata": {
        "id": "MWkHnfHU6eZr"
      },
      "execution_count": null,
      "outputs": []
    },
    {
      "cell_type": "code",
      "source": [
        "print(\"Latitude = {}, Longitude = {}\".format(location.latitude, location.longitude))\n"
      ],
      "metadata": {
        "colab": {
          "base_uri": "https://localhost:8080/"
        },
        "id": "red4SY9h6eyM",
        "outputId": "46116ae9-b84c-4aff-92bf-e071cc3c6002"
      },
      "execution_count": null,
      "outputs": [
        {
          "output_type": "stream",
          "name": "stdout",
          "text": [
            "Latitude = 48.122533399999995, Longitude = -1.7032299855475763\n"
          ]
        }
      ]
    }
  ]
}