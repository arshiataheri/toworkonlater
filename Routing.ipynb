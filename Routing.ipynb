{
  "nbformat": 4,
  "nbformat_minor": 0,
  "metadata": {
    "colab": {
      "provenance": [],
      "authorship_tag": "ABX9TyMLeI0nhtjIv7pXQ9ZuRXtD"
    },
    "kernelspec": {
      "name": "python3",
      "display_name": "Python 3"
    },
    "language_info": {
      "name": "python"
    }
  },
  "cells": [
    {
      "cell_type": "markdown",
      "source": [
        "# LCM - Transportation Problem"
      ],
      "metadata": {
        "id": "hqVSK-pV4ytn"
      }
    },
    {
      "cell_type": "code",
      "execution_count": null,
      "metadata": {
        "id": "lMW_b7b52Xfj"
      },
      "outputs": [],
      "source": [
        "def least_cost_method(supply, demand, costs):\n",
        "    \"\"\"\n",
        "    Calculates the Least Cost Method for solving the Transportation Problem.\n",
        "\n",
        "    Parameters:\n",
        "        supply (list): A list of supply values for each source.\n",
        "        demand (list): A list of demand values for each destination.\n",
        "        costs (list): A 2D list of transportation costs for each source-destination pair.\n",
        "\n",
        "    Returns:\n",
        "        (list, float): A tuple containing the solution matrix and the total cost.\n",
        "    \"\"\"\n",
        "    # Initialize the solution matrix with zeros\n",
        "    rows = len(supply)\n",
        "    cols = len(demand)\n",
        "    solution = [[0 for j in range(cols)] for i in range(rows)]\n",
        "\n",
        "    # While there is still supply and demand to be satisfied\n",
        "    while sum(supply) > 0 and sum(demand) > 0:\n",
        "        # Find the cell with the minimum cost\n",
        "        min_cost = float('inf')\n",
        "        min_i, min_j = -1, -1\n",
        "        for i in range(rows):\n",
        "            for j in range(cols):\n",
        "                if supply[i] > 0 and demand[j] > 0 and costs[i][j] < min_cost:\n",
        "                    min_cost = costs[i][j]\n",
        "                    min_i, min_j = i, j\n",
        "\n",
        "        # Calculate the amount to be transported\n",
        "        amount = min(supply[min_i], demand[min_j])\n",
        "\n",
        "        # Update the solution matrix and the supply/demand lists\n",
        "        solution[min_i][min_j] = amount\n",
        "        supply[min_i] -= amount\n",
        "        demand[min_j] -= amount\n",
        "\n",
        "    # Calculate the total cost of the solution\n",
        "    total_cost = sum([solution[i][j] * costs[i][j] for i in range(rows) for j in range(cols)])\n",
        "\n",
        "    return solution, total_cost\n"
      ]
    },
    {
      "cell_type": "markdown",
      "source": [
        "**An example**"
      ],
      "metadata": {
        "id": "mjhApBf047Us"
      }
    },
    {
      "cell_type": "code",
      "source": [
        "# Example input data\n",
        "supply = [40, 60, 50]\n",
        "demand = [20, 30, 50, 50]\n",
        "costs = [\n",
        "    [4, 6, 8, 8],\n",
        "    [6, 8, 6, 7],\n",
        "    [5, 7, 6, 8],\n",
        "]\n",
        "\n",
        "# Calculate the solution using the Least Cost Method\n",
        "solution, total_cost = least_cost_method(supply, demand, costs)\n",
        "\n",
        "# Print the solution matrix and the total cost\n",
        "print(\"Solution Matrix:\")\n",
        "for row in solution:\n",
        "    print(row)\n",
        "print(\"Total Cost:\", total_cost)\n"
      ],
      "metadata": {
        "colab": {
          "base_uri": "https://localhost:8080/"
        },
        "id": "KEjP0o9S3t8H",
        "outputId": "cd227ca9-b84e-4518-dc46-7fb56b8f57eb"
      },
      "execution_count": null,
      "outputs": [
        {
          "output_type": "stream",
          "name": "stdout",
          "text": [
            "Solution Matrix:\n",
            "[20, 20, 0, 0]\n",
            "[0, 0, 50, 10]\n",
            "[0, 10, 0, 40]\n",
            "Total Cost: 960\n"
          ]
        }
      ]
    },
    {
      "cell_type": "markdown",
      "source": [
        "**The manual method for reference:**\n",
        "https://youtu.be/5xCUzCTjAXQ"
      ],
      "metadata": {
        "id": "DGm6SszT4naO"
      }
    },
    {
      "cell_type": "code",
      "source": [
        "def least_cost_method2(supply, demand, costs):\n",
        "    \"\"\"\n",
        "    Calculates the Least Cost Method for solving the Transportation Problem.\n",
        "\n",
        "    Parameters:\n",
        "        supply (list): A list of supply values for each source.\n",
        "        demand (list): A list of demand values for each destination.\n",
        "        costs (list): A 2D list of transportation costs for each source-destination pair.\n",
        "\n",
        "    Returns:\n",
        "        (list, float): A tuple containing the solution matrix and the total cost.\n",
        "    \"\"\"\n",
        "    # Calculate the total supply and demand\n",
        "    total_supply = sum(supply)\n",
        "    total_demand = sum(demand)\n",
        "\n",
        "    # If the total supply is greater than the total demand, add a dummy column to the costs matrix\n",
        "    if total_supply > total_demand:\n",
        "        diff = total_supply - total_demand\n",
        "        for i in range(len(costs)):\n",
        "            costs[i].append(0)\n",
        "        demand.append(diff)\n",
        "\n",
        "    # If the total demand is greater than the total supply, add a dummy row to the costs matrix\n",
        "    elif total_demand > total_supply:\n",
        "        diff = total_demand - total_supply\n",
        "        costs.append([0] * len(demand))\n",
        "        supply.append(diff)\n",
        "\n",
        "    # Initialize the solution matrix with zeros\n",
        "    rows = len(supply)\n",
        "    cols = len(demand)\n",
        "    solution = [[0 for j in range(cols)] for i in range(rows)]\n",
        "\n",
        "    # While there is still supply and demand to be satisfied\n",
        "    while sum(supply) > 0 and sum(demand) > 0:\n",
        "        # Find the cell with the minimum cost\n",
        "        min_cost = float('inf')\n",
        "        row_index, col_index = -1, -1\n",
        "        for i in range(rows):\n",
        "            for j in range(cols):\n",
        "                if supply[i] > 0 and demand[j] > 0 and costs[i][j] < min_cost:\n",
        "                    min_cost = costs[i][j]\n",
        "                    row_index, col_index = i, j\n",
        "\n",
        "        # Calculate the quantity to be transported\n",
        "        quantity = min(supply[row_index], demand[col_index])\n",
        "\n",
        "        # Update the solution matrix and the supply/demand lists\n",
        "        solution[row_index][col_index] = quantity\n",
        "        supply[row_index] -= quantity\n",
        "        demand[col_index] -= quantity\n",
        "\n",
        "    # Calculate the total cost\n",
        "    total_cost = 0\n",
        "    for i in range(rows):\n",
        "        for j in range(cols):\n",
        "            total_cost += solution[i][j] * costs[i][j]\n",
        "\n",
        "    return solution, total_cost"
      ],
      "metadata": {
        "id": "ByIGZkAW5c6u"
      },
      "execution_count": null,
      "outputs": []
    },
    {
      "cell_type": "code",
      "source": [
        "# Example input data\n",
        "supply = [30, 10, 15, 5]\n",
        "demand = [10, 15, 17, 10]\n",
        "costs = [\n",
        "    [3, 8, 9, 15],\n",
        "    [2, 3, 8, 7],\n",
        "    [6, 9, 7, 7],\n",
        "    [2, 1, 1, 9]\n",
        "]\n",
        "\n",
        "# Calculate the solution using the Least Cost Method\n",
        "solution, total_cost = least_cost_method2(supply, demand, costs)\n",
        "\n",
        "# Print the solution matrix and the total cost\n",
        "print(\"Solution Matrix:\")\n",
        "for row in solution:\n",
        "    print(row)\n",
        "print(\"Total Cost:\", total_cost)\n"
      ],
      "metadata": {
        "colab": {
          "base_uri": "https://localhost:8080/"
        },
        "id": "xZ3hWEnO5ha5",
        "outputId": "cf2aab8a-975f-4681-b0a4-9c39be927616"
      },
      "execution_count": null,
      "outputs": [
        {
          "output_type": "stream",
          "name": "stdout",
          "text": [
            "Solution Matrix:\n",
            "[0, 10, 2, 10, 8]\n",
            "[10, 0, 0, 0, 0]\n",
            "[0, 0, 15, 0, 0]\n",
            "[0, 5, 0, 0, 0]\n",
            "Total Cost: 378\n"
          ]
        }
      ]
    },
    {
      "cell_type": "code",
      "source": [
        "#GGGGG\n",
        "\n",
        "\n"
      ],
      "metadata": {
        "id": "rryrOWMZZ99x"
      },
      "execution_count": null,
      "outputs": []
    },
    {
      "cell_type": "markdown",
      "source": [
        "The manual method for reference: https://youtu.be/0R8YLbvksiI"
      ],
      "metadata": {
        "id": "cjUYfT0_b6SY"
      }
    },
    {
      "cell_type": "markdown",
      "source": [
        "# NWC - Transportation Problem"
      ],
      "metadata": {
        "id": "_RKq8I6EbAke"
      }
    },
    {
      "cell_type": "code",
      "source": [
        "import numpy as np\n",
        "\n",
        "def NWC(costs, supply, demand):\n",
        "    \"\"\"\n",
        "    Solves the transportation problem using the North West Corner method.\n",
        "\n",
        "    Args:\n",
        "        costs (numpy.ndarray): An (m x n) array of transportation costs.\n",
        "        supply (numpy.ndarray): A 1D array of supply values for each source.\n",
        "        demand (numpy.ndarray): A 1D array of demand values for each destination.\n",
        "\n",
        "    Returns:\n",
        "        Tuple(numpy.ndarray, float): The first element is an (m x n) array of transportation\n",
        "        quantities, and the second element is the total cost of transportation.\n",
        "    \"\"\"\n",
        "    m, n = costs.shape\n",
        "    allocation = np.zeros((m, n))\n",
        "    i, j = 0, 0\n",
        "    total_cost = 0\n",
        "    while i < m and j < n:\n",
        "        if supply[i] < demand[j]:\n",
        "            allocation[i][j] = supply[i]\n",
        "            total_cost += supply[i] * costs[i][j]\n",
        "            demand[j] -= supply[i]\n",
        "            i += 1\n",
        "        else:\n",
        "            allocation[i][j] = demand[j]\n",
        "            total_cost += demand[j] * costs[i][j]\n",
        "            supply[i] -= demand[j]\n",
        "            j += 1\n",
        "    return allocation, total_cost\n"
      ],
      "metadata": {
        "id": "o0MFAp2dbHBR"
      },
      "execution_count": null,
      "outputs": []
    },
    {
      "cell_type": "code",
      "source": [
        "costs = np.array([[11, 13, 17, 14], [16, 18, 14, 10], [21, 24, 13, 10]])\n",
        "supply = np.array([250, 300, 400])\n",
        "demand = np.array([200, 225, 275, 250])\n",
        "allocation, total_cost = NWC(costs, supply, demand)\n",
        "print(\"Allocation:\\n\", allocation)\n",
        "print(\"Total cost:\", total_cost)\n"
      ],
      "metadata": {
        "colab": {
          "base_uri": "https://localhost:8080/"
        },
        "id": "LKj8VYh7bHu9",
        "outputId": "c9d44b53-069e-40bb-a700-d58cb32a449b"
      },
      "execution_count": null,
      "outputs": [
        {
          "output_type": "stream",
          "name": "stdout",
          "text": [
            "Allocation:\n",
            " [[200.  50.   0.   0.]\n",
            " [  0. 175. 125.   0.]\n",
            " [  0.   0. 150. 250.]]\n",
            "Total cost: 12200\n"
          ]
        }
      ]
    },
    {
      "cell_type": "code",
      "source": [
        "costs = np.array([[7, 12, 1, 5, 9], [15, 3, 12, 6, 14], [8, 16, 10, 12, 7], [18, 8, 17, 11, 16]])\n",
        "supply = np.array([12, 11, 14, 8])\n",
        "demand = np.array([10, 11, 15, 5, 4])\n",
        "allocation, total_cost = NWC(costs, supply, demand)\n",
        "print(\"Allocation:\\n\", allocation)\n",
        "print(\"Total cost:\", total_cost)\n",
        "\n",
        "\n",
        "\n",
        "#exo 2 de PAG"
      ],
      "metadata": {
        "colab": {
          "base_uri": "https://localhost:8080/"
        },
        "id": "HwpDQZo6XYlW",
        "outputId": "c2ffe771-dc7a-48d6-b4d0-484d87b7872b"
      },
      "execution_count": null,
      "outputs": [
        {
          "output_type": "stream",
          "name": "stdout",
          "text": [
            "Allocation:\n",
            " [[10.  2.  0.  0.  0.]\n",
            " [ 0.  9.  2.  0.  0.]\n",
            " [ 0.  0. 13.  1.  0.]\n",
            " [ 0.  0.  0.  4.  4.]]\n",
            "Total cost: 395\n"
          ]
        }
      ]
    },
    {
      "cell_type": "code",
      "source": [
        "# least cost method exo 2 de PAG\n",
        "\n",
        "costs = [[7, 12, 1, 5, 9],\n",
        "         [15, 3, 12, 6, 14],\n",
        "         [8, 16, 10, 12, 7],\n",
        "         [18, 8, 17, 11, 16]]\n",
        "supply = [12, 11, 14, 8]\n",
        "demand = [10, 11, 15, 5, 4]\n",
        "\n",
        "\n",
        "\n",
        "# Calculate the solution using the Least Cost Method\n",
        "solution, total_cost = least_cost_method(supply, demand, costs)\n",
        "\n",
        "# Print the solution matrix and the total cost\n",
        "print(\"Solution Matrix:\")\n",
        "for row in solution:\n",
        "    print(row)\n",
        "print(\"Total Cost:\", total_cost)\n"
      ],
      "metadata": {
        "colab": {
          "base_uri": "https://localhost:8080/"
        },
        "id": "wM_azvYBZpaA",
        "outputId": "089ce5df-b463-4683-db90-594078ab5f3e"
      },
      "execution_count": null,
      "outputs": [
        {
          "output_type": "stream",
          "name": "stdout",
          "text": [
            "Solution Matrix:\n",
            "[0, 0, 12, 0, 0]\n",
            "[0, 11, 0, 0, 0]\n",
            "[10, 0, 0, 0, 4]\n",
            "[0, 0, 3, 5, 0]\n",
            "Total Cost: 259\n"
          ]
        }
      ]
    },
    {
      "cell_type": "markdown",
      "source": [
        "edit the code so each dunction only gets a simple array. edit the second one."
      ],
      "metadata": {
        "id": "viwapZQGbWJT"
      }
    },
    {
      "cell_type": "code",
      "source": [],
      "metadata": {
        "id": "28Z8t0GXbc4m"
      },
      "execution_count": null,
      "outputs": []
    }
  ]
}