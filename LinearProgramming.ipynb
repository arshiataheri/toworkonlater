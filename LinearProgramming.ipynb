{
  "nbformat": 4,
  "nbformat_minor": 0,
  "metadata": {
    "colab": {
      "provenance": [],
      "authorship_tag": "ABX9TyO0ejoP4Ri6bblWv4+S7RgZ"
    },
    "kernelspec": {
      "name": "python3",
      "display_name": "Python 3"
    },
    "language_info": {
      "name": "python"
    }
  },
  "cells": [
    {
      "cell_type": "code",
      "source": [
        "!python -m pip install --upgrade --user ortools\n"
      ],
      "metadata": {
        "colab": {
          "base_uri": "https://localhost:8080/"
        },
        "id": "bVF7gLZJcOYf",
        "outputId": "57880c85-8910-4c79-c4d6-8d8cf69dcaa2"
      },
      "execution_count": null,
      "outputs": [
        {
          "output_type": "stream",
          "name": "stdout",
          "text": [
            "Collecting ortools\n",
            "  Downloading ortools-9.6.2534-cp310-cp310-manylinux_2_17_x86_64.manylinux2014_x86_64.whl (16.4 MB)\n",
            "\u001b[2K     \u001b[90m━━━━━━━━━━━━━━━━━━━━━━━━━━━━━━━━━━━━━━━━\u001b[0m \u001b[32m16.4/16.4 MB\u001b[0m \u001b[31m60.4 MB/s\u001b[0m eta \u001b[36m0:00:00\u001b[0m\n",
            "\u001b[?25hRequirement already satisfied: absl-py>=0.13 in /usr/local/lib/python3.10/dist-packages (from ortools) (1.4.0)\n",
            "Requirement already satisfied: numpy>=1.13.3 in /usr/local/lib/python3.10/dist-packages (from ortools) (1.22.4)\n",
            "Collecting protobuf>=4.21.12 (from ortools)\n",
            "  Downloading protobuf-4.23.4-cp37-abi3-manylinux2014_x86_64.whl (304 kB)\n",
            "\u001b[2K     \u001b[90m━━━━━━━━━━━━━━━━━━━━━━━━━━━━━━━━━━━━━━\u001b[0m \u001b[32m304.5/304.5 kB\u001b[0m \u001b[31m16.5 MB/s\u001b[0m eta \u001b[36m0:00:00\u001b[0m\n",
            "\u001b[?25hRequirement already satisfied: scipy>=1.10.0 in /usr/local/lib/python3.10/dist-packages (from ortools) (1.10.1)\n",
            "Installing collected packages: protobuf, ortools\n",
            "Successfully installed ortools-9.6.2534 protobuf-4.23.4\n"
          ]
        }
      ]
    },
    {
      "cell_type": "code",
      "execution_count": null,
      "metadata": {
        "id": "irj9AwKebUDj"
      },
      "outputs": [],
      "source": [
        "from ortools.linear_solver import pywraplp\n",
        "\n",
        "\n",
        "def LinearProgrammingExample():\n",
        "    \"\"\"Linear programming sample.\"\"\"\n",
        "    solver = pywraplp.Solver.CreateSolver('GLOP')\n",
        "    if not solver:\n",
        "        return\n",
        "\n",
        "    x = solver.NumVar(0, solver.infinity(), 'x')\n",
        "    y = solver.NumVar(0, solver.infinity(), 'y')\n",
        "\n",
        "    print('Number of variables =', solver.NumVariables())\n",
        "\n",
        "    # Constraint 1\n",
        "    solver.Add(5 * x + 4 * y <= 6200.0)\n",
        "\n",
        "    # Constraint 2\n",
        "    solver.Add(6 * x + 16 * y <= 14000.0)\n",
        "\n",
        "    # Constraint 3\n",
        "    solver.Add(0.2 * x + 0.3 * y <= 300.0)\n",
        "\n",
        "    print('Number of constraints =', solver.NumConstraints())\n",
        "\n",
        "    # Objective function:\n",
        "    solver.Maximize(400 * x + 330 * y)\n",
        "\n",
        "    # Solve the system.\n",
        "    status = solver.Solve()\n",
        "\n",
        "    if status == pywraplp.Solver.OPTIMAL:\n",
        "        print('Solution:')\n",
        "        print('Objective value =', solver.Objective().Value())\n",
        "        print('x =', x.solution_value())\n",
        "        print('y =', y.solution_value())\n",
        "    else:\n",
        "        print('nonono.')\n",
        "\n",
        "    print('\\nAdvanced usage:')\n",
        "    print(' %f milliseconds' % solver.wall_time())\n",
        "    print(' %d iterations' % solver.iterations())\n",
        "\n",
        "\n",
        "LinearProgrammingExample()"
      ]
    }
  ]
}