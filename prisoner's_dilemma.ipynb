{
  "nbformat": 4,
  "nbformat_minor": 0,
  "metadata": {
    "colab": {
      "provenance": [],
      "authorship_tag": "ABX9TyOumNz1Fjf77nR11IBP8Ox+"
    },
    "kernelspec": {
      "name": "python3",
      "display_name": "Python 3"
    },
    "language_info": {
      "name": "python"
    }
  },
  "cells": [
    {
      "cell_type": "markdown",
      "source": [
        "https://www.khanacademy.org/economics-finance-domain/ap-microeconomics/imperfect-competition/oligopoly-and-game-theory/v/prisoners-dilemma-and-nash-equilibrium"
      ],
      "metadata": {
        "id": "hV56RGJTXw2S"
      }
    },
    {
      "cell_type": "markdown",
      "source": [
        "https://axelrod.readthedocs.io/en/stable/tutorials/index.html"
      ],
      "metadata": {
        "id": "MOzKITyQYLo4"
      }
    },
    {
      "cell_type": "code",
      "execution_count": null,
      "metadata": {
        "colab": {
          "base_uri": "https://localhost:8080/",
          "height": 940
        },
        "id": "UhMP_EqHBa8n",
        "outputId": "c28eaad4-e8f5-432e-f4b5-de38cc89268e"
      },
      "outputs": [
        {
          "output_type": "stream",
          "name": "stdout",
          "text": [
            "Looking in indexes: https://pypi.org/simple, https://us-python.pkg.dev/colab-wheels/public/simple/\n",
            "Collecting axelrod\n",
            "  Downloading Axelrod-4.12.0-py2.py3-none-any.whl (191 kB)\n",
            "\u001b[K     |████████████████████████████████| 191 kB 4.9 MB/s \n",
            "\u001b[?25hRequirement already satisfied: numpy>=1.17.4 in /usr/local/lib/python3.7/dist-packages (from axelrod) (1.21.6)\n",
            "Collecting docutils<=0.17\n",
            "  Downloading docutils-0.17-py2.py3-none-any.whl (575 kB)\n",
            "\u001b[K     |████████████████████████████████| 575 kB 27.6 MB/s \n",
            "\u001b[?25hRequirement already satisfied: cloudpickle>=0.2.2 in /usr/local/lib/python3.7/dist-packages (from axelrod) (1.5.0)\n",
            "Collecting prompt-toolkit>=3.0\n",
            "  Downloading prompt_toolkit-3.0.33-py3-none-any.whl (383 kB)\n",
            "\u001b[K     |████████████████████████████████| 383 kB 36.8 MB/s \n",
            "\u001b[?25hRequirement already satisfied: tqdm>=4.39.0 in /usr/local/lib/python3.7/dist-packages (from axelrod) (4.64.1)\n",
            "Requirement already satisfied: toolz>=0.8.2 in /usr/local/lib/python3.7/dist-packages (from axelrod) (0.12.0)\n",
            "Requirement already satisfied: pyyaml>=5.1 in /usr/local/lib/python3.7/dist-packages (from axelrod) (6.0)\n",
            "Requirement already satisfied: dask>=2.9.2 in /usr/local/lib/python3.7/dist-packages (from axelrod) (2022.2.0)\n",
            "Requirement already satisfied: scipy>=1.3.3 in /usr/local/lib/python3.7/dist-packages (from axelrod) (1.7.3)\n",
            "Requirement already satisfied: pandas>=1.0.0 in /usr/local/lib/python3.7/dist-packages (from axelrod) (1.3.5)\n",
            "Requirement already satisfied: matplotlib>=3.0.3 in /usr/local/lib/python3.7/dist-packages (from axelrod) (3.2.2)\n",
            "Requirement already satisfied: fsspec>=0.6.0 in /usr/local/lib/python3.7/dist-packages (from axelrod) (2022.11.0)\n",
            "Requirement already satisfied: packaging>=20.0 in /usr/local/lib/python3.7/dist-packages (from dask>=2.9.2->axelrod) (21.3)\n",
            "Requirement already satisfied: partd>=0.3.10 in /usr/local/lib/python3.7/dist-packages (from dask>=2.9.2->axelrod) (1.3.0)\n",
            "Requirement already satisfied: kiwisolver>=1.0.1 in /usr/local/lib/python3.7/dist-packages (from matplotlib>=3.0.3->axelrod) (1.4.4)\n",
            "Requirement already satisfied: pyparsing!=2.0.4,!=2.1.2,!=2.1.6,>=2.0.1 in /usr/local/lib/python3.7/dist-packages (from matplotlib>=3.0.3->axelrod) (3.0.9)\n",
            "Requirement already satisfied: cycler>=0.10 in /usr/local/lib/python3.7/dist-packages (from matplotlib>=3.0.3->axelrod) (0.11.0)\n",
            "Requirement already satisfied: python-dateutil>=2.1 in /usr/local/lib/python3.7/dist-packages (from matplotlib>=3.0.3->axelrod) (2.8.2)\n",
            "Requirement already satisfied: typing-extensions in /usr/local/lib/python3.7/dist-packages (from kiwisolver>=1.0.1->matplotlib>=3.0.3->axelrod) (4.1.1)\n",
            "Requirement already satisfied: pytz>=2017.3 in /usr/local/lib/python3.7/dist-packages (from pandas>=1.0.0->axelrod) (2022.6)\n",
            "Requirement already satisfied: locket in /usr/local/lib/python3.7/dist-packages (from partd>=0.3.10->dask>=2.9.2->axelrod) (1.0.0)\n",
            "Requirement already satisfied: wcwidth in /usr/local/lib/python3.7/dist-packages (from prompt-toolkit>=3.0->axelrod) (0.2.5)\n",
            "Requirement already satisfied: six>=1.5 in /usr/local/lib/python3.7/dist-packages (from python-dateutil>=2.1->matplotlib>=3.0.3->axelrod) (1.15.0)\n",
            "Installing collected packages: prompt-toolkit, docutils, axelrod\n",
            "  Attempting uninstall: prompt-toolkit\n",
            "    Found existing installation: prompt-toolkit 2.0.10\n",
            "    Uninstalling prompt-toolkit-2.0.10:\n",
            "      Successfully uninstalled prompt-toolkit-2.0.10\n",
            "  Attempting uninstall: docutils\n",
            "    Found existing installation: docutils 0.17.1\n",
            "    Uninstalling docutils-0.17.1:\n",
            "      Successfully uninstalled docutils-0.17.1\n",
            "\u001b[31mERROR: pip's dependency resolver does not currently take into account all the packages that are installed. This behaviour is the source of the following dependency conflicts.\n",
            "ipython 7.9.0 requires jedi>=0.10, which is not installed.\n",
            "ipython 7.9.0 requires prompt-toolkit<2.1.0,>=2.0.0, but you have prompt-toolkit 3.0.33 which is incompatible.\u001b[0m\n",
            "Successfully installed axelrod-4.12.0 docutils-0.17 prompt-toolkit-3.0.33\n"
          ]
        },
        {
          "output_type": "display_data",
          "data": {
            "application/vnd.colab-display-data+json": {
              "pip_warning": {
                "packages": [
                  "prompt_toolkit"
                ]
              }
            }
          },
          "metadata": {}
        }
      ],
      "source": [
        "!pip install axelrod"
      ]
    },
    {
      "cell_type": "code",
      "source": [
        "import axelrod as axl\n",
        "len(axl.strategies)"
      ],
      "metadata": {
        "colab": {
          "base_uri": "https://localhost:8080/"
        },
        "id": "Un5-c12tBkNu",
        "outputId": "144cf5da-293f-48eb-b42d-ebe913b0e626"
      },
      "execution_count": null,
      "outputs": [
        {
          "output_type": "execute_result",
          "data": {
            "text/plain": [
              "239"
            ]
          },
          "metadata": {},
          "execution_count": 2
        }
      ]
    },
    {
      "cell_type": "code",
      "source": [
        "axl.demo_strategies"
      ],
      "metadata": {
        "colab": {
          "base_uri": "https://localhost:8080/"
        },
        "id": "-cGOFxagB-iz",
        "outputId": "e9ea8472-4fb9-4551-be66-d507c476963d"
      },
      "execution_count": null,
      "outputs": [
        {
          "output_type": "execute_result",
          "data": {
            "text/plain": [
              "[axelrod.strategies.cooperator.Cooperator,\n",
              " axelrod.strategies.defector.Defector,\n",
              " axelrod.strategies.titfortat.TitForTat,\n",
              " axelrod.strategies.grudger.Grudger,\n",
              " axelrod.strategies.rand.Random]"
            ]
          },
          "metadata": {},
          "execution_count": 3
        }
      ]
    },
    {
      "cell_type": "code",
      "source": [
        "players = [s() for s in axl.demo_strategies]  # Create players\n",
        "tournament = axl.Tournament(players, seed=1)  # Create a tournament\n",
        "results = tournament.play()  # Play the tournament\n",
        "results.ranked_names"
      ],
      "metadata": {
        "colab": {
          "base_uri": "https://localhost:8080/"
        },
        "id": "qXfDhiWoB0_P",
        "outputId": "fe49829f-fc88-43f1-ba27-15845378e2bc"
      },
      "execution_count": null,
      "outputs": [
        {
          "output_type": "stream",
          "name": "stderr",
          "text": [
            "Playing matches: 100%|██████████| 15/15 [00:00<00:00, 38.48it/s]\n",
            "Analysing: 100%|██████████| 25/25 [00:00<00:00, 110.03it/s]\n"
          ]
        },
        {
          "output_type": "execute_result",
          "data": {
            "text/plain": [
              "['Defector', 'Grudger', 'Tit For Tat', 'Cooperator', 'Random: 0.5']"
            ]
          },
          "metadata": {},
          "execution_count": 4
        }
      ]
    },
    {
      "cell_type": "code",
      "source": [
        "players2 = [s() for s in axl.demo_strategies]  # Create players\n",
        "tournament2 = axl.Tournament(players2, seed=2)  # Create a tournament\n",
        "results2 = tournament2.play()  # Play the tournament\n",
        "results2.ranked_names"
      ],
      "metadata": {
        "colab": {
          "base_uri": "https://localhost:8080/"
        },
        "id": "gjiC6wbIDWYf",
        "outputId": "e5583f68-5632-44df-f135-b6327cdd1262"
      },
      "execution_count": null,
      "outputs": [
        {
          "output_type": "stream",
          "name": "stderr",
          "text": [
            "Playing matches: 100%|██████████| 15/15 [00:00<00:00, 41.05it/s]\n",
            "Analysing: 100%|██████████| 25/25 [00:00<00:00, 159.63it/s]\n"
          ]
        },
        {
          "output_type": "execute_result",
          "data": {
            "text/plain": [
              "['Defector', 'Grudger', 'Tit For Tat', 'Cooperator', 'Random: 0.5']"
            ]
          },
          "metadata": {},
          "execution_count": 11
        }
      ]
    }
  ]
}